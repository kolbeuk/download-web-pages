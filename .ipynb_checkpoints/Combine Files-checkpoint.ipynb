{
 "cells": [
  {
   "cell_type": "code",
   "execution_count": 3,
   "id": "875761e1",
   "metadata": {},
   "outputs": [
    {
     "name": "stdout",
     "output_type": "stream",
     "text": [
      "Files combined successfully!\n"
     ]
    }
   ],
   "source": [
    "import os\n",
    "\n",
    "def combine_files(output_file):\n",
    "    with open(output_file, 'wb') as outfile:\n",
    "        for filename in os.listdir():\n",
    "            if os.path.isfile(filename):\n",
    "                with open(filename, 'rb') as infile:\n",
    "                    outfile.write(infile.read())\n",
    "\n",
    "if __name__ == \"__main__\":\n",
    "    output_file = \"zcombined_file.txt\"  # Replace with the desired output file name\n",
    "    \n",
    "    combine_files(output_file)\n",
    "    print(\"Files combined successfully!\")\n"
   ]
  },
  {
   "cell_type": "code",
   "execution_count": null,
   "id": "9084dab0",
   "metadata": {},
   "outputs": [],
   "source": []
  }
 ],
 "metadata": {
  "kernelspec": {
   "display_name": "Python 3 (ipykernel)",
   "language": "python",
   "name": "python3"
  },
  "language_info": {
   "codemirror_mode": {
    "name": "ipython",
    "version": 3
   },
   "file_extension": ".py",
   "mimetype": "text/x-python",
   "name": "python",
   "nbconvert_exporter": "python",
   "pygments_lexer": "ipython3",
   "version": "3.8.16"
  }
 },
 "nbformat": 4,
 "nbformat_minor": 5
}
